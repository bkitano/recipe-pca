{
 "cells": [
  {
   "cell_type": "markdown",
   "metadata": {},
   "source": [
    "# Recipes PCA\n",
    "### By Brian Kitano\n",
    "\n",
    "Okay, I'm going to use the Epicurious dataset to identify palates common across their recipes. \n",
    "\n",
    "### Naming conventions of variables\n",
    "1. The raw dataset is loaded as an array called `data`, but we will exclusively use the dictionary `titleToRawRecipe` which contains a mapping of recipe titles to their data.\n",
    "2. There are three kinds of ingredient objects: `rawIngredient` is the original ingredient string as it is found in `titleToRawRecipe`; `cleanIngredient` is the ingredient after NLP cleaning; and `cookedIngredient` is the dictionary object returned by the CRF.\n"
   ]
  },
  {
   "cell_type": "markdown",
   "metadata": {},
   "source": [
    "## Introduction / Hypothesis"
   ]
  },
  {
   "cell_type": "markdown",
   "metadata": {},
   "source": [
    "## Materials"
   ]
  },
  {
   "cell_type": "markdown",
   "metadata": {},
   "source": [
    "## Procedure\n",
    "1. Download the JSON data\n",
    "2. Parse the JSON to extract recipe names and ingredients with their quantities.\n",
    "3. Create the data matrix M, where each column is a recipe and each row is an ingredient; the entry is the quantity in a normalized and standardized quantity (grams?)\n",
    "4. PCA\n",
    "\n",
    "Bonus: construct the bipartite graph of ingredients to recipes, and then project it down onto a unipartite graph of ingredients where the weight of each edge is the frequency of connections. "
   ]
  },
  {
   "cell_type": "code",
   "execution_count": 1,
   "metadata": {},
   "outputs": [
    {
     "name": "stdout",
     "output_type": "stream",
     "text": [
      "20130\n",
      "20111\n",
      "20111\n"
     ]
    }
   ],
   "source": [
    "# 1. Parse the ingredients to extract recipe names and ingredients with their quantities\n",
    "import json\n",
    "\n",
    "# load in the epicurious set\n",
    "with open('full_format_recipes.json') as f:\n",
    "    data = json.load(f)\n",
    "    f.close()\n",
    "    \n",
    "# print data[0]['ingredients']\n",
    "print len(data)\n",
    "\n",
    "# need to filter out the recipes without a title\n",
    "data = list(filter(lambda recipe: 'title' in recipe.keys(), data)) \n",
    "print len(data)\n",
    "\n",
    "# need to filter out the recipes that don't have ingredients listed\n",
    "data = list(filter(lambda recipe: 'ingredients' in recipe.keys(), data))\n",
    "print len(data)\n",
    "\n",
    "# as a simple means of cleaning everything, let's strip whitespace from all the listings\n",
    "for recipe in data:\n",
    "    ingredients = recipe['ingredients']\n",
    "    for ingredient in ingredients:\n",
    "        ingredient = ingredient.strip()"
   ]
  },
  {
   "cell_type": "code",
   "execution_count": 4,
   "metadata": {},
   "outputs": [
    {
     "name": "stdout",
     "output_type": "stream",
     "text": [
      "17775\n"
     ]
    }
   ],
   "source": [
    "# there are duplicate recipes lol\n",
    "# start by making the hash map of title to recipe\n",
    "titleToRawRecipe = dict()\n",
    "\n",
    "# for a recipe in the dataset\n",
    "for recipe in data:\n",
    "    title = recipe['title']\n",
    "    # if we haven't seen that recipe before, add it to the dictionary\n",
    "    if title not in titleToRawRecipe.keys():\n",
    "        titleToRawRecipe[title] = recipe\n",
    "        # otherwise, doesn't matter, ignore it\n",
    "\n",
    "# from then on out, we can only work with the dictionary\n",
    "print len(titleToRawRecipe)"
   ]
  },
  {
   "cell_type": "code",
   "execution_count": 5,
   "metadata": {},
   "outputs": [
    {
     "name": "stdout",
     "output_type": "stream",
     "text": [
      "180467\n"
     ]
    }
   ],
   "source": [
    "# get all of the ingredient lists as a list of lists\n",
    "rawIngredientsLists = [ titleToRawRecipe[titleToRawRecipe.keys()[i]]['ingredients'] for i in range(len(titleToRawRecipe)) ]\n",
    "\n",
    "# flatten this list, which might contain duplicates\n",
    "rawIngredients = [ ingredient for ingredientList in rawIngredientsLists for ingredient in ingredientList]\n",
    "print len(rawIngredients)"
   ]
  },
  {
   "cell_type": "markdown",
   "metadata": {},
   "source": [
    "We need to deal with the redundancy neatly. What we can do is map each original listing to a number, in another dictionary map that number to a processed listing. Then we only have to work with the processed listings and not fuck with the original mapping. We'll need to make a temporary reverse mapping of the set list."
   ]
  },
  {
   "cell_type": "code",
   "execution_count": 10,
   "metadata": {},
   "outputs": [
    {
     "name": "stdout",
     "output_type": "stream",
     "text": [
      "82097\n",
      "82097\n"
     ]
    }
   ],
   "source": [
    "# a deduplicated list of ingredients\n",
    "uniqueRawIngredients = list(set(rawIngredients))\n",
    "print len(uniqueRawIngredients)\n",
    "\n",
    "# a temporary map from cleaned ingredient to index\n",
    "uniqueRawIngredientToIndex = dict(zip(uniqueRawIngredients, range(len(uniqueRawIngredients))))\n",
    "\n",
    "# now create a map from the original ingredients to these indices\n",
    "rawIngredientToIndex = dict()\n",
    "for ingredient in rawIngredients:\n",
    "    rawIngredientToIndex[ingredient] = uniqueRawIngredientToIndex[ingredient]\n",
    "    \n",
    "print len(rawIngredientToIndex)"
   ]
  },
  {
   "cell_type": "markdown",
   "metadata": {},
   "source": [
    "Now there's a mapping of the original listing to the unique listing, so we can safely process the unique list without losing track of where the original ones came from."
   ]
  },
  {
   "cell_type": "markdown",
   "metadata": {},
   "source": [
    "### Data Cleaning\n",
    "Before we write all of the ingredients to a file, we should do some NLP cleaning. In looking at the results of the first model run, it seems like to be conservative we should remove all the text that occurs in parentheses, as this seems to really mess up the CRF's ability to identify units. One unfortunate consequence is that we'll no longer be able to filter lists using lambdas, but instead replace them with null strings."
   ]
  },
  {
   "cell_type": "markdown",
   "metadata": {},
   "source": [
    "#### remove things in parentheses (use regex)"
   ]
  },
  {
   "cell_type": "code",
   "execution_count": 11,
   "metadata": {},
   "outputs": [
    {
     "name": "stdout",
     "output_type": "stream",
     "text": [
      "82097\n"
     ]
    }
   ],
   "source": [
    "import re\n",
    "\n",
    "# remove all the text that is inside a parenthesis\n",
    "noParenthesisIngredients = [re.sub('\\s*\\([^)]*\\)', '', ingredient) for ingredient in uniqueRawIngredients]\n",
    "\n",
    "print len(noParenthesisIngredients)"
   ]
  },
  {
   "cell_type": "markdown",
   "metadata": {},
   "source": [
    "#### dealing with the word \"plus\"\n",
    "\n",
    "More complex problem. There are lots of ways that \"plus\" is used. Some examples:\n",
    "\n",
    "##### when quantities don't add nicely\n",
    "- \"1/2 cup plus 1 1/2 tablespoons red wine vinegar\"\n",
    "- \"1/2 cup plus 2 tablespoons granola\"\n",
    "- \"1/4 cup plus 1 tablespoon warm water\"\n",
    "- \"1/4 teaspoon plus 1/3 cup sugar\"\n",
    "- \"2 tablespoons plus 1/2 cup chopped fresh dill\"\n",
    "- \"1 tablespoon plus 1/2 teaspoon Dijon mustard\"\n",
    "- \"2/3 cup plus 6 tablespoons coarsely chopped pecans\"\n",
    "- \"1 cup plus 2 tablespoons whole milk\"\n",
    "- \"1 1/2 cups plus 2 tablespoons sugar\"\n",
    "- \"1 1/2 cups plus 2 tablespoons water\"\n",
    "- \"1 tablespoon plus 3/4 teaspoon ground cinnamon\"\n",
    "- \"1 tablespoon plus one teaspoon fresh lemon juice\"\n",
    "\n",
    "These are in a consistent format of UNIT QUANTITY PLUS UNIT QUANTITY INGREDIENT. If we add PLUS as a label, then over the 3k samples we have we might improve, but we might also tag some things as being PLUS when we don't want them to be.\n",
    "\n",
    "##### when there's a suggestion for more on the side (not a lot of errors there)\n",
    "- \"1/4 cup olive oil, plus more for grilling\"\n",
    "- \"5 teaspoons all-purpose flour plus more for dusting\"\n",
    "- \"2 tablespoons drained capers plus more for serving\"\n",
    "- \"1/2 cup freshly grated Parmesan cheese plus additional for passing\"\n",
    "- \"12 rice-paper rounds, plus more in case some tear\"\n",
    "- \"1 can whole tomatoes, plus juice\"\n",
    "- \"1 tablespoon chile oil containing sesame oil plus some of sediment from jar\"\n",
    "\n",
    "These ones seem like i can just remove all the words after the plus.\n",
    "\n",
    "##### other, stupid ones\n",
    "- \"8 cornichons, finely chopped, plus 2 pickled onions from the jar, minced\"\n",
    "- \"1/2 cup oil-packed sun-dried tomatoes, chopped, plus 2 tablespoons tomato oil\"\n",
    "- \"1 tablespoon fresh rosemary leaves or 1 teaspoon crumbled dried, plus rosemary sprigs for garnish\"\n",
    "- \"Juice of 1/4 lime, plus 1 lime wedge for garnish\"\n",
    "- \"1 1/2 cups sugar, plus 1/4 cup mixed with 1 tablespoon cinnamon, on a plate\"\n",
    "- \"1/2 fennel bulb, finely chopped, plus 1 tablespoon finely chopped fronds\"\n",
    "- \"1/4 cup chopped fresh cilantro plus 32 whole fresh cilantro leaves\"\n",
    "- \"6 large celery stalks, thickly sliced, plus 2 1/2 cups 1/2-inch-thick slices\"\n",
    "- \"6 fresh mint leaves plus 1 mint sprig for garnish\"\n",
    "\n",
    "So also there's like a utility function that might need to be taken into account: we really want our data to fit the format nicely of having a name, a unit, and a quantity. \n",
    "\n",
    "A really, really easy way to deal with all of this is just to get rid of all the \"plus\" ingredient listings, which are only ~3000 out of the 83k samples. It might mess up the data but it's easier. Also none of this is training or testing data, this is like actually \"I need this\" data so it's convenient if I just scrap the shitty stuff. It will also probably have come up in other sections. "
   ]
  },
  {
   "cell_type": "code",
   "execution_count": 12,
   "metadata": {},
   "outputs": [
    {
     "data": {
      "text/plain": [
       "82097"
      ]
     },
     "execution_count": 12,
     "metadata": {},
     "output_type": "execute_result"
    }
   ],
   "source": [
    "# we use a regex to tag an igredient any time \"plus\" appears as a word with or without a comma on its own\n",
    "def removePlus(ingredient):\n",
    "    if (re.search(\"\\s*(plus)\\,*\\s*\", ingredient) == None):\n",
    "        return ingredient\n",
    "    else:\n",
    "        return \"\"\n",
    "\n",
    "noPlusListings = [removePlus(ingredient) for ingredient in noParenthesisIngredients]\n",
    "\n",
    "len(noPlusListings)"
   ]
  },
  {
   "cell_type": "markdown",
   "metadata": {},
   "source": [
    "#### dashes, commas, and other grammar thingies\n",
    "might be worth removing all of that, but not going to yet. \n",
    "\n",
    "##### Asterisks (*)\n",
    "Asterisks appear in two variants:\n",
    "\"2 1/2 pounds Jerusalem artichokes *\" where the asterisk is at the end, and \"*seedless red grapes\" where it's indicating that this is the start of a comment. We can thus remove anything after an asterisk, since it doesn't matter in either case."
   ]
  },
  {
   "cell_type": "code",
   "execution_count": 13,
   "metadata": {},
   "outputs": [
    {
     "name": "stdout",
     "output_type": "stream",
     "text": [
      "82097\n"
     ]
    }
   ],
   "source": [
    "# removing all the text after an asterisk\n",
    "asteriskFreeListings = [ re.sub(\"\\*.*\\n*\",'',ingredient) for ingredient in noPlusListings ]\n",
    "print len(asteriskFreeListings)"
   ]
  },
  {
   "cell_type": "markdown",
   "metadata": {},
   "source": [
    "#### \"a\" and \"an\"\n",
    "This probably maps to the number 1 right?"
   ]
  },
  {
   "cell_type": "markdown",
   "metadata": {},
   "source": [
    "#### typos\n",
    "\n",
    "like fam what how is that even ugh how do i check for typos here. "
   ]
  },
  {
   "cell_type": "markdown",
   "metadata": {},
   "source": [
    "#### \"or\"\n",
    "we could remove all the tokens after the word \"or\", since it's optional.\n",
    "\n",
    "examples:\n",
    "- 1 cup fresh or frozen cranberries (about 4 ounces)\n"
   ]
  },
  {
   "cell_type": "code",
   "execution_count": 14,
   "metadata": {},
   "outputs": [
    {
     "name": "stdout",
     "output_type": "stream",
     "text": [
      "82097\n"
     ]
    }
   ],
   "source": [
    "# remove all the things after an or\n",
    "noOrListings = [ re.sub(\"[^A-z]\\.*\\,*\\s*(or|OR|Or)+\\,*\\s+.*\",'', ingredient) for ingredient in asteriskFreeListings ]\n",
    "\n",
    "print len(noOrListings)"
   ]
  },
  {
   "cell_type": "markdown",
   "metadata": {},
   "source": [
    "Let's make sure that our mapping methods are still valid."
   ]
  },
  {
   "cell_type": "code",
   "execution_count": 16,
   "metadata": {},
   "outputs": [
    {
     "name": "stdout",
     "output_type": "stream",
     "text": [
      "4 oz extra-sharp reduced-fat Cheddar (made from 2% milk), coarsely grated\n",
      "4 oz extra-sharp reduced-fat Cheddar, coarsely grated\n",
      "\n",
      "\n",
      "12 large fennel bulbs, trimmed, halved lengthwise, cored, sliced crosswise\n",
      "12 large fennel bulbs, trimmed, halved lengthwise, cored, sliced crosswise\n",
      "\n",
      "\n",
      "1 pork tenderloin\n",
      "1 pork tenderloin\n",
      "\n",
      "\n",
      "2 lb medium shrimp in shell (31 to 35 per pound), peeled and deveined\n",
      "2 lb medium shrimp in shell, peeled and deveined\n",
      "\n",
      "\n",
      "2 tablespoon white wine vinegar\n",
      "2 tablespoon white wine vinegar\n",
      "\n",
      "\n"
     ]
    }
   ],
   "source": [
    "# let's make a function to make our lives easier for doing lookup\n",
    "def getCleanedIngredientFromRawIngredient(rawIngredient, uniqueList):\n",
    "    index = rawIngredientToIndex[rawIngredient]\n",
    "    return uniqueList[index]\n",
    "\n",
    "for i in range(20,25):\n",
    "    print uniqueRawIngredients[i]\n",
    "    print getCleanedIngredientFromRawIngredient( uniqueRawIngredients[i] , noOrListings)\n",
    "    print '\\n'"
   ]
  },
  {
   "cell_type": "code",
   "execution_count": 22,
   "metadata": {},
   "outputs": [
    {
     "name": "stdout",
     "output_type": "stream",
     "text": [
      "raw: 4 oz extra-sharp reduced-fat Cheddar (made from 2% milk), coarsely grated, 20\n",
      "cleaned: 4 oz extra-sharp reduced-fat Cheddar, coarsely grated, 20\n",
      "raw: 12 large fennel bulbs, trimmed, halved lengthwise, cored, sliced crosswise, 21\n",
      "cleaned: 12 large fennel bulbs, trimmed, halved lengthwise, cored, sliced crosswise, 21\n",
      "raw: 1 pork tenderloin, 22\n",
      "cleaned: 1 pork tenderloin, 61194\n",
      "raw: 2 lb medium shrimp in shell (31 to 35 per pound), peeled and deveined, 23\n",
      "cleaned: 2 lb medium shrimp in shell, peeled and deveined, 23\n",
      "raw: 2 tablespoon white wine vinegar, 24\n",
      "cleaned: 2 tablespoon white wine vinegar, 24\n"
     ]
    }
   ],
   "source": [
    "# now we make a hash map from the cleaned inputs to their index\n",
    "cleanedIngredientToIndex = dict(zip(noOrListings, range(len(noOrListings))))\n",
    "\n",
    "# show that the originalIndex and the cleanedIndex are the same\n",
    "for i in range(20,25):\n",
    "    rawIngredient = uniqueRawIngredients[i]\n",
    "    cleanedIngredient = getCleanedIngredientFromRawIngredient(rawIngredient, noOrListings)\n",
    "    print \"raw: \" + rawIngredient + \", \" + str(rawIngredientToIndex[rawIngredient])\n",
    "    print \"cleaned: \" + cleanedIngredient + \", \" + str(cleanedIngredientToIndex[cleanedIngredient])"
   ]
  },
  {
   "cell_type": "code",
   "execution_count": 24,
   "metadata": {},
   "outputs": [
    {
     "name": "stdout",
     "output_type": "stream",
     "text": [
      "1 cup fresh or frozen cranberries (about 4 ounces)\n",
      "1 cup fresh or frozen cranberries\n",
      "1 cup fresh or frozen cranberries\n",
      "1 cup fresh or frozen cranberries\n",
      "1 cup fresh\n"
     ]
    }
   ],
   "source": [
    "i = cleanedIngredientToIndex[\"1 cup fresh\"]\n",
    "print uniqueRawIngredients[i]\n",
    "print noParenthesisIngredients[i]\n",
    "print noPlusListings[i]\n",
    "print asteriskFreeListings[i]\n",
    "print noOrListings[i]"
   ]
  },
  {
   "cell_type": "markdown",
   "metadata": {},
   "source": [
    "Okay, so how will we get from the modeled stuff to the original recipe?\n",
    "\n",
    "1. map json to listing index\n",
    "\n",
    "1a. map model json to input to model aka cleanedListing\n",
    "\n",
    "1b. map cleanedListing to index\n",
    "\n",
    "2. map original listing to listing index (done)\n",
    "3. reverse map listing index to json\n",
    "\n",
    "and then i think we're good"
   ]
  },
  {
   "cell_type": "markdown",
   "metadata": {},
   "source": [
    "Okay, now let's write this clean stuff to a file."
   ]
  },
  {
   "cell_type": "code",
   "execution_count": 12,
   "metadata": {},
   "outputs": [],
   "source": [
    "# write the ingredients to a file, which we'll then feed to a model\n",
    "with open('ingredientsList.txt', 'a') as the_file:\n",
    "    for ingredient in noOrListings:\n",
    "        if ingredient != \"\":\n",
    "            asciiOnlyIngredient = \"\".join(i for i in ingredient if ord(i)<128)\n",
    "            ingredientString = asciiOnlyIngredient + \"\\n\"\n",
    "            the_file.write(ingredientString)\n"
   ]
  },
  {
   "cell_type": "code",
   "execution_count": 25,
   "metadata": {},
   "outputs": [
    {
     "name": "stdout",
     "output_type": "stream",
     "text": [
      "lemon juice\n",
      "cup\n",
      "1 1/4\n",
      "78688\n"
     ]
    }
   ],
   "source": [
    "# okay, the model ran and i've got the sauce\n",
    "\n",
    "# load in the labeled stuff\n",
    "with open('results.json') as g:\n",
    "    cookedIngredients = json.load(g)\n",
    "    g.close()\n",
    "    \n",
    "print cookedIngredients[0]['name']\n",
    "print cookedIngredients[0]['unit']\n",
    "print cookedIngredients[0]['qty']\n",
    "\n",
    "print len(cookedIngredients)"
   ]
  },
  {
   "cell_type": "code",
   "execution_count": 14,
   "metadata": {},
   "outputs": [
    {
     "name": "stdout",
     "output_type": "stream",
     "text": [
      "93\n"
     ]
    }
   ],
   "source": [
    "# now we need to normalize all of the units and measures. We'll use milliliters for volume and grams for mass.\n",
    "\n",
    "# first we'll get a list of all the units\n",
    "def containsUnit(i):\n",
    "    if 'unit' in cookedIngredients[i].keys():\n",
    "        return i\n",
    "    else:\n",
    "        return 0\n",
    "    \n",
    "# get all of the indices which contain units\n",
    "unitContainingIndices = [containsUnit(i) for i in range(len(labeledIngredients))]\n",
    "unitContainingIndices = list(set(unitContainingIndices))\n",
    "\n",
    "# get all of the units\n",
    "unitList = [labeledIngredients[i]['unit'] for i in list(set(unitContainingIndices))]\n",
    "\n",
    "# remove duplicates\n",
    "uniqueUnitList = list(set(unitList))\n",
    "\n",
    "print len(uniqueUnitList)"
   ]
  },
  {
   "cell_type": "markdown",
   "metadata": {},
   "source": [
    "### Pre and Post Modeling Cleaning\n",
    "What cleaning should be done before we feed the model, and what cleaning should be done after? Also, should we change our factor functions? \n",
    "\n",
    "Well, let's think quantitatively about what cleaning means now. We've identified the units from the model, and they're obviously not perfect. We should look at whether we can just cut the shitty ones out now."
   ]
  },
  {
   "cell_type": "code",
   "execution_count": 15,
   "metadata": {},
   "outputs": [],
   "source": [
    "# make a dictionary mapping unit to ingredients\n",
    "sortedIngredientsByUnit = dict()\n",
    "\n",
    "for ingredient in labeledIngredients:\n",
    "    unit = 'na'\n",
    "    # if there's a unit associated with the ingredient\n",
    "    if 'unit' in ingredient.keys():\n",
    "        unit = ingredient['unit']\n",
    "    \n",
    "    if isinstance(ingredient, dict):\n",
    "        # if that unit is already in the dictionary\n",
    "        if unit in sortedIngredientsByUnit.keys():\n",
    "            sortedIngredientsByUnit[unit].append(ingredient)\n",
    "        else:\n",
    "            # that unit is unseen, so we need to create it\n",
    "            sortedIngredientsByUnit[unit] = [ingredient]"
   ]
  },
  {
   "cell_type": "code",
   "execution_count": 16,
   "metadata": {},
   "outputs": [
    {
     "name": "stdout",
     "output_type": "stream",
     "text": [
      "[('na', 28250), (u'cup', 20551), (u'tablespoon', 8040), (u'pound', 5805), (u'teaspoon', 5375), (u'ounce', 3670), (u'slice', 1042), (u'clove', 802), (u'bunch', 686), (u'head', 589), (u'piece', 483), (u'can', 447), (u'sprig', 436), (u'stick', 305), (u'stalk', 274), (u'package', 267), (u'pint', 234), (u'quart', 162), (u'pinch', 154), (u'fillet', 142), (u'strip', 140), (u'bottle', 109), (u'ear', 103), (u'dash', 76), (u'jar', 53), (u'bag', 50), (u'handful', 47), (u'loaf', 40), (u'gram', 35), (u'dozen', 31), (u'bulb', 25), (u'sheet', 23), (u'envelope', 23), (u'cup sprig', 22), (u'box', 19), (u'gallon', 11), (u'cube', 11), (u'batch', 10), (u'clove teaspoon', 9), (u'knob', 8), (u'square', 7), (u'rack', 7), (u'pound fillet', 7), (u'ounce slice', 7), (u'wedge', 6), (u'ball', 6), (u'cup tablespoon', 5), (u'chunk', 5), (u'12-ounce', 5), (u'twist', 4), (u'splash', 4), (u'liter', 4), (u'drop', 4), (u'tablespoon tablespoon', 3), (u'log', 3), (u'cup slice', 3), (u'can fillet', 3), (u'teaspoon teaspoon', 2), (u'tablespoon sprig', 2), (u'tablespoon cup', 2), (u'slice slice', 2), (u'packet', 2), (u'ounce fillet', 2), (u'cup strip', 2), (u'cup cup', 2), (u'bunch sprig', 2), (u'tablespoon teaspoon', 1), (u'tablespoon stalk', 1), (u'stem', 1), (u'segment', 1), (u'pound stalk', 1), (u'pound slice', 1), (u'pound pound', 1), (u'pound ounce', 1), (u'pound cup', 1), (u'pinch sprig', 1), (u'piece fillet', 1), (u'pair', 1), (u'ounce cup', 1), (u'ounce can', 1), (u'ounce bunch', 1), (u'link', 1), (u'head clove', 1), (u'fifth', 1), (u'cup teaspoon', 1), (u'cup tablespoon cup', 1), (u'cup stalk', 1), (u'cup piece', 1), (u'clove clove', 1), (u'bulb tablespoon', 1), (u'branch', 1), (u'12-ounce bunch', 1), (u'12-ounce bottle', 1), (u'12-ounce bag', 1)]\n"
     ]
    }
   ],
   "source": [
    "unitByCount = dict()\n",
    "\n",
    "for unit in sortedIngredientsByUnit.keys():\n",
    "    unitByCount[unit] = len(sortedIngredientsByUnit[unit])\n",
    "    \n",
    "unitByCountSorted = (sorted(unitByCount.iteritems(), key=lambda (k,v): (v,k), reverse=True))\n",
    "\n",
    "print unitByCountSorted"
   ]
  },
  {
   "cell_type": "markdown",
   "metadata": {},
   "source": [
    "So I think since the first 25 units account for ~99% of the ingredients in the set, I'm just gonna drop the remaining ones. "
   ]
  },
  {
   "cell_type": "code",
   "execution_count": 17,
   "metadata": {},
   "outputs": [
    {
     "name": "stdout",
     "output_type": "stream",
     "text": [
      "{u'pound': 5805, u'dash': 76, u'strip': 140, u'bunch': 686, u'clove': 802, u'slice': 1042, u'cup': 20551, 'na': 28250, u'jar': 53, u'fillet': 142, u'teaspoon': 5375, u'stalk': 274, u'pint': 234, u'head': 589, u'tablespoon': 8040, u'quart': 162, u'stick': 305, u'ear': 103, u'package': 267, u'pinch': 154, u'ounce': 3670, u'sprig': 436, u'can': 447, u'bottle': 109, u'piece': 483}\n",
      "78195\n"
     ]
    }
   ],
   "source": [
    "unitByCountTruncated = dict(unitByCountSorted[:25])\n",
    "print unitByCountTruncated\n",
    "print sum(unitByCountTruncated.values())"
   ]
  },
  {
   "cell_type": "markdown",
   "metadata": {},
   "source": [
    "At this point, i'm not really sure how my previous work is that helpful. Anyways, what I need to do now is reassociate each recipe with its ingredients, now modeled. I think I'll have to make a new dictionary, where keys are titles, and the modeled ingredients are values."
   ]
  },
  {
   "cell_type": "code",
   "execution_count": 26,
   "metadata": {},
   "outputs": [],
   "source": [
    "# make a mapping from cleaned listing to model\n",
    "cleanedIngredientToCookedIngredient = dict()\n",
    "for cookedIngredient in cookedIngredients:\n",
    "    cleanedIngredient = cookedIngredient['input']\n",
    "    cleanedIngredientToCookedIngredient[cleanedIngredient] = cookedIngredient"
   ]
  },
  {
   "cell_type": "markdown",
   "metadata": {},
   "source": [
    "okay so that dictionary is definitely working"
   ]
  },
  {
   "cell_type": "code",
   "execution_count": 27,
   "metadata": {},
   "outputs": [
    {
     "name": "stdout",
     "output_type": "stream",
     "text": [
      "recipe title: Roasted Butternut Squash, Rosemary, and Garlic Lasagne \n",
      "raw ingredient: 3 pounds butternut squash, quartered, seeded, peeled, and cut into 1/2-inch dice (about 9 1/2 cups)\n",
      "cleaned ingredient: 3 pounds butternut squash, quartered, seeded, peeled, and cut into 1/2-inch dice\n",
      "{u'comment': u'quartered seeded peeled and cut into 1/2-inch dice', u'name': u'butternut squash', u'qty': u'3', u'other': u',, , ,', u'input': u'3 pounds butternut squash, quartered, seeded, peeled, and cut into 1/2-inch dice', u'display': u\"<span class='qty'>3</span><span class='unit'>pounds</span><span class='name'>butternut squash</span><span class='other'>,</span><span class='comment'>quartered</span><span class='other'>,</span><span class='comment'>seeded</span><span class='other'>,</span><span class='comment'>peeled</span><span class='other'>,</span><span class='comment'>and cut into 1/2-inch dice</span>\", u'unit': u'pound'}\n",
      "raw ingredient: 3 tablespoons vegetable oil\n",
      "cleaned ingredient: 3 tablespoons vegetable oil\n",
      "{u'input': u'3 tablespoons vegetable oil', u'qty': u'3', u'display': u\"<span class='qty'>3</span><span class='unit'>tablespoons</span><span class='name'>vegetable oil</span>\", u'unit': u'tablespoon', u'name': u'vegetable oil'}\n",
      "raw ingredient: 4 cups milk\n",
      "cleaned ingredient: 4 cups milk\n",
      "{u'input': u'4 cups milk', u'qty': u'4', u'display': u\"<span class='qty'>4</span><span class='unit'>cups</span><span class='name'>milk</span>\", u'unit': u'cup', u'name': u'milk'}\n",
      "raw ingredient: 2 tablespoons dried rosemary, crumbled\n",
      "cleaned ingredient: 2 tablespoons dried rosemary, crumbled\n",
      "{u'comment': u'dried, crumbled', u'name': u'rosemary', u'qty': u'2', u'input': u'2 tablespoons dried rosemary, crumbled', u'display': u\"<span class='qty'>2</span><span class='unit'>tablespoons</span><span class='comment'>dried</span><span class='name'>rosemary</span><span class='comment'>, crumbled</span>\", u'unit': u'tablespoon'}\n",
      "raw ingredient: 1 tablespoon minced garlic\n",
      "cleaned ingredient: 1 tablespoon minced garlic\n",
      "{u'comment': u'minced', u'name': u'garlic', u'qty': u'1', u'input': u'1 tablespoon minced garlic', u'display': u\"<span class='qty'>1</span><span class='unit'>tablespoon</span><span class='comment'>minced</span><span class='name'>garlic</span>\", u'unit': u'tablespoon'}\n",
      "raw ingredient: 1/2 stick (1/4 cup) unsalted butter\n",
      "cleaned ingredient: 1/2 stick unsalted butter\n",
      "{u'input': u'1/2 stick unsalted butter', u'qty': u'1/2', u'display': u\"<span class='qty'>1/2</span><span class='unit'>stick</span><span class='name'>unsalted butter</span>\", u'unit': u'stick', u'name': u'unsalted butter'}\n",
      "raw ingredient: 4 tablespoons all-purpose flour\n",
      "cleaned ingredient: 4 tablespoons all-purpose flour\n",
      "{u'input': u'4 tablespoons all-purpose flour', u'qty': u'4', u'display': u\"<span class='qty'>4</span><span class='unit'>tablespoons</span><span class='name'>all-purpose flour</span>\", u'unit': u'tablespoon', u'name': u'all-purpose flour'}\n",
      "raw ingredient: nine 7- by 3 1/2-inch sheets dry no-boil lasagne pasta\n",
      "cleaned ingredient: nine 7- by 3 1/2-inch sheets dry no-boil lasagne pasta\n",
      "{u'input': u'nine 7- by 3 1/2-inch sheets dry no-boil lasagne pasta', u'name': u'nine 7- by 3 1/2-inch sheets dry no-boil lasagne pasta', u'display': u\"<span class='name'>nine 7- by 3 1/2-inch sheets dry no-boil lasagne pasta</span>\"}\n",
      "raw ingredient: 1 1/3 cups freshly grated Parmesan (about 5 ounces)\n",
      "cleaned ingredient: 1 1/3 cups freshly grated Parmesan\n",
      "{u'comment': u'freshly grated', u'name': u'Parmesan', u'other': u'1 1/3', u'input': u'1 1/3 cups freshly grated Parmesan', u'display': u\"<span class='other'>1 1/3</span><span class='unit'>cups</span><span class='comment'>freshly grated</span><span class='name'>Parmesan</span>\", u'unit': u'cup'}\n",
      "raw ingredient: 1 cup heavy cream\n",
      "cleaned ingredient: 1 cup heavy cream\n",
      "{u'input': u'1 cup heavy cream', u'qty': u'1', u'display': u\"<span class='qty'>1</span><span class='unit'>cup</span><span class='name'>heavy cream</span>\", u'unit': u'cup', u'name': u'heavy cream'}\n",
      "raw ingredient: 1/2 teaspoon salt\n",
      "cleaned ingredient: 1/2 teaspoon salt\n",
      "{u'input': u'1/2 teaspoon salt', u'qty': u'1/2', u'display': u\"<span class='qty'>1/2</span><span class='unit'>teaspoon</span><span class='name'>salt</span>\", u'unit': u'teaspoon', u'name': u'salt'}\n",
      "raw ingredient: Garnish: fresh rosemary sprigs\n",
      "cleaned ingredient: Garnish: fresh rosemary sprigs\n",
      "{u'input': u'Garnish: fresh rosemary sprigs', u'other': u'Garnish: fresh', u'name': u'rosemary', u'unit': u'sprig', u'display': u\"<span class='other'>Garnish: fresh</span><span class='name'>rosemary</span><span class='unit'>sprigs</span>\"}\n",
      "[{u'comment': u'quartered seeded peeled and cut into 1/2-inch dice', u'name': u'butternut squash', u'qty': u'3', u'other': u',, , ,', u'input': u'3 pounds butternut squash, quartered, seeded, peeled, and cut into 1/2-inch dice', u'display': u\"<span class='qty'>3</span><span class='unit'>pounds</span><span class='name'>butternut squash</span><span class='other'>,</span><span class='comment'>quartered</span><span class='other'>,</span><span class='comment'>seeded</span><span class='other'>,</span><span class='comment'>peeled</span><span class='other'>,</span><span class='comment'>and cut into 1/2-inch dice</span>\", u'unit': u'pound'}, {u'input': u'3 tablespoons vegetable oil', u'qty': u'3', u'display': u\"<span class='qty'>3</span><span class='unit'>tablespoons</span><span class='name'>vegetable oil</span>\", u'unit': u'tablespoon', u'name': u'vegetable oil'}, {u'input': u'4 cups milk', u'qty': u'4', u'display': u\"<span class='qty'>4</span><span class='unit'>cups</span><span class='name'>milk</span>\", u'unit': u'cup', u'name': u'milk'}, {u'comment': u'dried, crumbled', u'name': u'rosemary', u'qty': u'2', u'input': u'2 tablespoons dried rosemary, crumbled', u'display': u\"<span class='qty'>2</span><span class='unit'>tablespoons</span><span class='comment'>dried</span><span class='name'>rosemary</span><span class='comment'>, crumbled</span>\", u'unit': u'tablespoon'}, {u'comment': u'minced', u'name': u'garlic', u'qty': u'1', u'input': u'1 tablespoon minced garlic', u'display': u\"<span class='qty'>1</span><span class='unit'>tablespoon</span><span class='comment'>minced</span><span class='name'>garlic</span>\", u'unit': u'tablespoon'}, {u'input': u'1/2 stick unsalted butter', u'qty': u'1/2', u'display': u\"<span class='qty'>1/2</span><span class='unit'>stick</span><span class='name'>unsalted butter</span>\", u'unit': u'stick', u'name': u'unsalted butter'}, {u'input': u'4 tablespoons all-purpose flour', u'qty': u'4', u'display': u\"<span class='qty'>4</span><span class='unit'>tablespoons</span><span class='name'>all-purpose flour</span>\", u'unit': u'tablespoon', u'name': u'all-purpose flour'}, {u'input': u'nine 7- by 3 1/2-inch sheets dry no-boil lasagne pasta', u'name': u'nine 7- by 3 1/2-inch sheets dry no-boil lasagne pasta', u'display': u\"<span class='name'>nine 7- by 3 1/2-inch sheets dry no-boil lasagne pasta</span>\"}, {u'comment': u'freshly grated', u'name': u'Parmesan', u'other': u'1 1/3', u'input': u'1 1/3 cups freshly grated Parmesan', u'display': u\"<span class='other'>1 1/3</span><span class='unit'>cups</span><span class='comment'>freshly grated</span><span class='name'>Parmesan</span>\", u'unit': u'cup'}, {u'input': u'1 cup heavy cream', u'qty': u'1', u'display': u\"<span class='qty'>1</span><span class='unit'>cup</span><span class='name'>heavy cream</span>\", u'unit': u'cup', u'name': u'heavy cream'}, {u'input': u'1/2 teaspoon salt', u'qty': u'1/2', u'display': u\"<span class='qty'>1/2</span><span class='unit'>teaspoon</span><span class='name'>salt</span>\", u'unit': u'teaspoon', u'name': u'salt'}, {u'input': u'Garnish: fresh rosemary sprigs', u'other': u'Garnish: fresh', u'name': u'rosemary', u'unit': u'sprig', u'display': u\"<span class='other'>Garnish: fresh</span><span class='name'>rosemary</span><span class='unit'>sprigs</span>\"}]\n",
      "recipe title: Iced Coffee Mousse \n",
      "raw ingredient: 1/2 teaspoon unflavored gelatin\n",
      "cleaned ingredient: 1/2 teaspoon unflavored gelatin\n",
      "{u'comment': u'unflavored', u'name': u'gelatin', u'qty': u'1/2', u'input': u'1/2 teaspoon unflavored gelatin', u'display': u\"<span class='qty'>1/2</span><span class='unit'>teaspoon</span><span class='comment'>unflavored</span><span class='name'>gelatin</span>\", u'unit': u'teaspoon'}\n",
      "raw ingredient: 2 tablespoons water\n",
      "cleaned ingredient: 2 tablespoons water\n",
      "{u'input': u'2 tablespoons water', u'qty': u'2', u'display': u\"<span class='qty'>2</span><span class='unit'>tablespoons</span><span class='name'>water</span>\", u'unit': u'tablespoon', u'name': u'water'}\n",
      "raw ingredient: 1/2 cup sweetened condensed milk (not evaporated)\n",
      "cleaned ingredient: 1/2 cup sweetened condensed milk\n",
      "{u'input': u'1/2 cup sweetened condensed milk', u'qty': u'1/2', u'display': u\"<span class='qty'>1/2</span><span class='unit'>cup</span><span class='name'>sweetened condensed milk</span>\", u'unit': u'cup', u'name': u'sweetened condensed milk'}\n",
      "raw ingredient: 1 1/2 teaspoons instant espresso powder\n",
      "cleaned ingredient: 1 1/2 teaspoons instant espresso powder\n",
      "{u'comment': u'instant', u'name': u'espresso powder', u'qty': u'1 1/2', u'input': u'1 1/2 teaspoons instant espresso powder', u'display': u\"<span class='qty'>1 1/2</span><span class='unit'>teaspoons</span><span class='comment'>instant</span><span class='name'>espresso powder</span>\", u'unit': u'teaspoon'}\n",
      "raw ingredient: 1/2 teaspoon vanilla\n",
      "cleaned ingredient: 1/2 teaspoon vanilla\n",
      "{u'input': u'1/2 teaspoon vanilla', u'qty': u'1/2', u'display': u\"<span class='qty'>1/2</span><span class='unit'>teaspoon</span><span class='name'>vanilla</span>\", u'unit': u'teaspoon', u'name': u'vanilla'}\n",
      "raw ingredient: 1/2 cup well-chilled heavy cream\n",
      "cleaned ingredient: 1/2 cup well-chilled heavy cream\n",
      "{u'comment': u'well-chilled', u'name': u'heavy cream', u'qty': u'1/2', u'input': u'1/2 cup well-chilled heavy cream', u'display': u\"<span class='qty'>1/2</span><span class='unit'>cup</span><span class='comment'>well-chilled</span><span class='name'>heavy cream</span>\", u'unit': u'cup'}\n",
      "[{u'comment': u'unflavored', u'name': u'gelatin', u'qty': u'1/2', u'input': u'1/2 teaspoon unflavored gelatin', u'display': u\"<span class='qty'>1/2</span><span class='unit'>teaspoon</span><span class='comment'>unflavored</span><span class='name'>gelatin</span>\", u'unit': u'teaspoon'}, {u'input': u'2 tablespoons water', u'qty': u'2', u'display': u\"<span class='qty'>2</span><span class='unit'>tablespoons</span><span class='name'>water</span>\", u'unit': u'tablespoon', u'name': u'water'}, {u'input': u'1/2 cup sweetened condensed milk', u'qty': u'1/2', u'display': u\"<span class='qty'>1/2</span><span class='unit'>cup</span><span class='name'>sweetened condensed milk</span>\", u'unit': u'cup', u'name': u'sweetened condensed milk'}, {u'comment': u'instant', u'name': u'espresso powder', u'qty': u'1 1/2', u'input': u'1 1/2 teaspoons instant espresso powder', u'display': u\"<span class='qty'>1 1/2</span><span class='unit'>teaspoons</span><span class='comment'>instant</span><span class='name'>espresso powder</span>\", u'unit': u'teaspoon'}, {u'input': u'1/2 teaspoon vanilla', u'qty': u'1/2', u'display': u\"<span class='qty'>1/2</span><span class='unit'>teaspoon</span><span class='name'>vanilla</span>\", u'unit': u'teaspoon', u'name': u'vanilla'}, {u'comment': u'well-chilled', u'name': u'heavy cream', u'qty': u'1/2', u'input': u'1/2 cup well-chilled heavy cream', u'display': u\"<span class='qty'>1/2</span><span class='unit'>cup</span><span class='comment'>well-chilled</span><span class='name'>heavy cream</span>\", u'unit': u'cup'}]\n",
      "recipe title: Chocolate-Cognac Cream \n",
      "raw ingredient: 1 cup chilled whipping cream\n",
      "cleaned ingredient: 1 cup chilled whipping cream\n",
      "{u'comment': u'chilled', u'name': u'whipping cream', u'qty': u'1', u'input': u'1 cup chilled whipping cream', u'display': u\"<span class='qty'>1</span><span class='unit'>cup</span><span class='comment'>chilled</span><span class='name'>whipping cream</span>\", u'unit': u'cup'}\n",
      "raw ingredient: 1/4 cup sugar\n",
      "cleaned ingredient: 1/4 cup sugar\n",
      "{u'input': u'1/4 cup sugar', u'qty': u'1/4', u'display': u\"<span class='qty'>1/4</span><span class='unit'>cup</span><span class='name'>sugar</span>\", u'unit': u'cup', u'name': u'sugar'}\n",
      "raw ingredient: 1/4 cup unsweetened cocoa powder\n",
      "cleaned ingredient: 1/4 cup unsweetened cocoa powder\n",
      "{u'comment': u'unsweetened', u'name': u'cocoa powder', u'qty': u'1/4', u'input': u'1/4 cup unsweetened cocoa powder', u'display': u\"<span class='qty'>1/4</span><span class='unit'>cup</span><span class='comment'>unsweetened</span><span class='name'>cocoa powder</span>\", u'unit': u'cup'}\n",
      "raw ingredient: 2 tablespoons Cognac or brandy\n",
      "cleaned ingredient: 2 tablespoons Cognac\n",
      "{u'input': u'2 tablespoons Cognac', u'qty': u'2', u'display': u\"<span class='qty'>2</span><span class='unit'>tablespoons</span><span class='name'>Cognac</span>\", u'unit': u'tablespoon', u'name': u'Cognac'}\n",
      "[{u'comment': u'chilled', u'name': u'whipping cream', u'qty': u'1', u'input': u'1 cup chilled whipping cream', u'display': u\"<span class='qty'>1</span><span class='unit'>cup</span><span class='comment'>chilled</span><span class='name'>whipping cream</span>\", u'unit': u'cup'}, {u'input': u'1/4 cup sugar', u'qty': u'1/4', u'display': u\"<span class='qty'>1/4</span><span class='unit'>cup</span><span class='name'>sugar</span>\", u'unit': u'cup', u'name': u'sugar'}, {u'comment': u'unsweetened', u'name': u'cocoa powder', u'qty': u'1/4', u'input': u'1/4 cup unsweetened cocoa powder', u'display': u\"<span class='qty'>1/4</span><span class='unit'>cup</span><span class='comment'>unsweetened</span><span class='name'>cocoa powder</span>\", u'unit': u'cup'}, {u'input': u'2 tablespoons Cognac', u'qty': u'2', u'display': u\"<span class='qty'>2</span><span class='unit'>tablespoons</span><span class='name'>Cognac</span>\", u'unit': u'tablespoon', u'name': u'Cognac'}]\n",
      "recipe title: Chicken Soup with Egg and Cheese \n",
      "raw ingredient: 12 cups canned low-salt chicken broth\n",
      "cleaned ingredient: 12 cups canned low-salt chicken broth\n",
      "{u'comment': u'canned low-salt', u'name': u'chicken broth', u'qty': u'12', u'input': u'12 cups canned low-salt chicken broth', u'display': u\"<span class='qty'>12</span><span class='unit'>cups</span><span class='comment'>canned low-salt</span><span class='name'>chicken broth</span>\", u'unit': u'cup'}\n",
      "raw ingredient: 2 chicken breast halves with skin and bones, skin removed\n",
      "cleaned ingredient: 2 chicken breast halves with skin and bones, skin removed\n",
      "{u'comment': u'halves with skin and bones, skin removed', u'input': u'2 chicken breast halves with skin and bones, skin removed', u'qty': u'2', u'display': u\"<span class='qty'>2</span><span class='name'>chicken breast</span><span class='comment'>halves with skin and bones , skin removed</span>\", u'name': u'chicken breast'}\n",
      "raw ingredient: 3 large carrots, peeled\n",
      "cleaned ingredient: 3 large carrots, peeled\n",
      "{u'comment': u'large, peeled', u'input': u'3 large carrots, peeled', u'qty': u'3', u'display': u\"<span class='qty'>3</span><span class='comment'>large</span><span class='name'>carrots</span><span class='comment'>, peeled</span>\", u'name': u'carrots'}\n",
      "raw ingredient: 1 large onion, quartered\n",
      "cleaned ingredient: 1 large onion, quartered\n",
      "{u'comment': u'large, quartered', u'input': u'1 large onion, quartered', u'qty': u'1', u'display': u\"<span class='qty'>1</span><span class='comment'>large</span><span class='name'>onion</span><span class='comment'>, quartered</span>\", u'name': u'onion'}\n",
      "raw ingredient: 1 celery stalk with leaves\n",
      "cleaned ingredient: 1 celery stalk with leaves\n",
      "{u'comment': u'with leaves', u'name': u'celery', u'qty': u'1', u'input': u'1 celery stalk with leaves', u'display': u\"<span class='qty'>1</span><span class='name'>celery</span><span class='unit'>stalk</span><span class='comment'>with leaves</span>\", u'unit': u'stalk'}\n",
      "raw ingredient: 1 bay leaf\n",
      "cleaned ingredient: 1 bay leaf\n",
      "{u'input': u'1 bay leaf', u'qty': u'1', u'display': u\"<span class='qty'>1</span><span class='name'>bay leaf</span>\", u'name': u'bay leaf'}\n",
      "raw ingredient: 1/3 cup farina (instant Cream of Wheat)\n",
      "cleaned ingredient: 1/3 cup farina\n",
      "{u'input': u'1/3 cup farina', u'other': u'1/3', u'name': u'farina', u'unit': u'cup', u'display': u\"<span class='other'>1/3</span><span class='unit'>cup</span><span class='name'>farina</span>\"}\n",
      "raw ingredient: 3 large eggs\n",
      "cleaned ingredient: 3 large eggs\n",
      "{u'comment': u'large', u'input': u'3 large eggs', u'qty': u'3', u'display': u\"<span class='qty'>3</span><span class='comment'>large</span><span class='name'>eggs</span>\", u'name': u'eggs'}\n",
      "raw ingredient: 6 tablespoons freshly grated Parmesan cheese\n",
      "cleaned ingredient: 6 tablespoons freshly grated Parmesan cheese\n",
      "{u'comment': u'freshly grated', u'name': u'Parmesan cheese', u'qty': u'6', u'input': u'6 tablespoons freshly grated Parmesan cheese', u'display': u\"<span class='qty'>6</span><span class='unit'>tablespoons</span><span class='comment'>freshly grated</span><span class='name'>Parmesan cheese</span>\", u'unit': u'tablespoon'}\n",
      "raw ingredient: 1/4 cup cold water\n",
      "cleaned ingredient: 1/4 cup cold water\n",
      "{u'comment': u'cold', u'name': u'water', u'qty': u'1/4', u'input': u'1/4 cup cold water', u'display': u\"<span class='qty'>1/4</span><span class='unit'>cup</span><span class='comment'>cold</span><span class='name'>water</span>\", u'unit': u'cup'}\n",
      "raw ingredient: Chopped fresh parsley\n",
      "cleaned ingredient: Chopped fresh parsley\n",
      "{u'input': u'Chopped fresh parsley', u'other': u'Chopped', u'name': u'fresh parsley', u'display': u\"<span class='other'>Chopped</span><span class='name'>fresh parsley</span>\"}\n",
      "[{u'comment': u'canned low-salt', u'name': u'chicken broth', u'qty': u'12', u'input': u'12 cups canned low-salt chicken broth', u'display': u\"<span class='qty'>12</span><span class='unit'>cups</span><span class='comment'>canned low-salt</span><span class='name'>chicken broth</span>\", u'unit': u'cup'}, {u'comment': u'halves with skin and bones, skin removed', u'input': u'2 chicken breast halves with skin and bones, skin removed', u'qty': u'2', u'display': u\"<span class='qty'>2</span><span class='name'>chicken breast</span><span class='comment'>halves with skin and bones , skin removed</span>\", u'name': u'chicken breast'}, {u'comment': u'large, peeled', u'input': u'3 large carrots, peeled', u'qty': u'3', u'display': u\"<span class='qty'>3</span><span class='comment'>large</span><span class='name'>carrots</span><span class='comment'>, peeled</span>\", u'name': u'carrots'}, {u'comment': u'large, quartered', u'input': u'1 large onion, quartered', u'qty': u'1', u'display': u\"<span class='qty'>1</span><span class='comment'>large</span><span class='name'>onion</span><span class='comment'>, quartered</span>\", u'name': u'onion'}, {u'comment': u'with leaves', u'name': u'celery', u'qty': u'1', u'input': u'1 celery stalk with leaves', u'display': u\"<span class='qty'>1</span><span class='name'>celery</span><span class='unit'>stalk</span><span class='comment'>with leaves</span>\", u'unit': u'stalk'}, {u'input': u'1 bay leaf', u'qty': u'1', u'display': u\"<span class='qty'>1</span><span class='name'>bay leaf</span>\", u'name': u'bay leaf'}, {u'input': u'1/3 cup farina', u'other': u'1/3', u'name': u'farina', u'unit': u'cup', u'display': u\"<span class='other'>1/3</span><span class='unit'>cup</span><span class='name'>farina</span>\"}, {u'comment': u'large', u'input': u'3 large eggs', u'qty': u'3', u'display': u\"<span class='qty'>3</span><span class='comment'>large</span><span class='name'>eggs</span>\", u'name': u'eggs'}, {u'comment': u'freshly grated', u'name': u'Parmesan cheese', u'qty': u'6', u'input': u'6 tablespoons freshly grated Parmesan cheese', u'display': u\"<span class='qty'>6</span><span class='unit'>tablespoons</span><span class='comment'>freshly grated</span><span class='name'>Parmesan cheese</span>\", u'unit': u'tablespoon'}, {u'comment': u'cold', u'name': u'water', u'qty': u'1/4', u'input': u'1/4 cup cold water', u'display': u\"<span class='qty'>1/4</span><span class='unit'>cup</span><span class='comment'>cold</span><span class='name'>water</span>\", u'unit': u'cup'}, {u'input': u'Chopped fresh parsley', u'other': u'Chopped', u'name': u'fresh parsley', u'display': u\"<span class='other'>Chopped</span><span class='name'>fresh parsley</span>\"}]\n",
      "recipe title: Belgian Ale-Braised Brisket \n",
      "raw ingredient: 1 4-pound piece flat-cut beef brisket, untrimmed\n",
      "cleaned ingredient: 1 4-pound piece flat-cut beef brisket, untrimmed\n",
      "{u'comment': u'1 4-pound, untrimmed', u'input': u'1 4-pound piece flat-cut beef brisket, untrimmed', u'name': u'flat-cut beef brisket', u'unit': u'piece', u'display': u\"<span class='comment'>1 4-pound</span><span class='unit'>piece</span><span class='name'>flat-cut beef brisket</span><span class='comment'>, untrimmed</span>\"}\n",
      "raw ingredient: Kosher salt\n",
      "cleaned ingredient: Kosher salt\n",
      "{u'input': u'Kosher salt', u'name': u'Kosher salt', u'display': u\"<span class='name'>Kosher salt</span>\"}\n",
      "raw ingredient: 1/4 cup Dijon mustard\n",
      "cleaned ingredient: 1/4 cup Dijon mustard\n",
      "{u'input': u'1/4 cup Dijon mustard', u'qty': u'1/4', u'display': u\"<span class='qty'>1/4</span><span class='unit'>cup</span><span class='name'>Dijon mustard</span>\", u'unit': u'cup', u'name': u'Dijon mustard'}\n",
      "raw ingredient: 1/4 cup (packed) dark brown sugar\n",
      "cleaned ingredient: 1/4 cup dark brown sugar\n",
      "{u'input': u'1/4 cup dark brown sugar', u'qty': u'1/4', u'display': u\"<span class='qty'>1/4</span><span class='unit'>cup</span><span class='name'>dark brown sugar</span>\", u'unit': u'cup', u'name': u'dark brown sugar'}\n",
      "raw ingredient: 1 tablespoon grated peeled ginger\n",
      "cleaned ingredient: 1 tablespoon grated peeled ginger\n",
      "{u'comment': u'grated peeled', u'name': u'ginger', u'qty': u'1', u'input': u'1 tablespoon grated peeled ginger', u'display': u\"<span class='qty'>1</span><span class='unit'>tablespoon</span><span class='comment'>grated peeled</span><span class='name'>ginger</span>\", u'unit': u'tablespoon'}\n",
      "raw ingredient: 2 tablespoons bacon fat or vegetable oil\n",
      "cleaned ingredient: 2 tablespoons bacon fat\n",
      "{u'input': u'2 tablespoons bacon fat', u'qty': u'2', u'display': u\"<span class='qty'>2</span><span class='unit'>tablespoons</span><span class='name'>bacon fat</span>\", u'unit': u'tablespoon', u'name': u'bacon fat'}\n",
      "raw ingredient: 2 medium yellow onions, thinly sliced\n",
      "cleaned ingredient: 2 medium yellow onions, thinly sliced\n",
      "{u'comment': u'medium yellow, thinly sliced', u'input': u'2 medium yellow onions, thinly sliced', u'qty': u'2', u'display': u\"<span class='qty'>2</span><span class='comment'>medium yellow</span><span class='name'>onions</span><span class='comment'>, thinly sliced</span>\", u'name': u'onions'}\n",
      "raw ingredient: 1/4 cup all-purpose flour\n",
      "cleaned ingredient: 1/4 cup all-purpose flour\n",
      "{u'input': u'1/4 cup all-purpose flour', u'qty': u'1/4', u'display': u\"<span class='qty'>1/4</span><span class='unit'>cup</span><span class='name'>all-purpose flour</span>\", u'unit': u'cup', u'name': u'all-purpose flour'}\n",
      "raw ingredient: 1 bay leaf\n",
      "cleaned ingredient: 1 bay leaf\n",
      "{u'input': u'1 bay leaf', u'qty': u'1', u'display': u\"<span class='qty'>1</span><span class='name'>bay leaf</span>\", u'name': u'bay leaf'}\n",
      "raw ingredient: 1 750-milliliter bottle Belgian-style tripel ale\n",
      "cleaned ingredient: 1 750-milliliter bottle Belgian-style tripel ale\n",
      "{u'comment': u'1 750-milliliter bottle', u'input': u'1 750-milliliter bottle Belgian-style tripel ale', u'name': u'Belgian-style tripel ale', u'display': u\"<span class='comment'>1 750-milliliter bottle</span><span class='name'>Belgian-style tripel ale</span>\"}\n",
      "raw ingredient: 4 cups beef stock or low-sodium chicken broth\n",
      "cleaned ingredient: 4 cups beef stock\n",
      "{u'input': u'4 cups beef stock', u'qty': u'4', u'display': u\"<span class='qty'>4</span><span class='unit'>cups</span><span class='name'>beef stock</span>\", u'unit': u'cup', u'name': u'beef stock'}\n",
      "[{u'comment': u'1 4-pound, untrimmed', u'input': u'1 4-pound piece flat-cut beef brisket, untrimmed', u'name': u'flat-cut beef brisket', u'unit': u'piece', u'display': u\"<span class='comment'>1 4-pound</span><span class='unit'>piece</span><span class='name'>flat-cut beef brisket</span><span class='comment'>, untrimmed</span>\"}, {u'input': u'Kosher salt', u'name': u'Kosher salt', u'display': u\"<span class='name'>Kosher salt</span>\"}, {u'input': u'1/4 cup Dijon mustard', u'qty': u'1/4', u'display': u\"<span class='qty'>1/4</span><span class='unit'>cup</span><span class='name'>Dijon mustard</span>\", u'unit': u'cup', u'name': u'Dijon mustard'}, {u'input': u'1/4 cup dark brown sugar', u'qty': u'1/4', u'display': u\"<span class='qty'>1/4</span><span class='unit'>cup</span><span class='name'>dark brown sugar</span>\", u'unit': u'cup', u'name': u'dark brown sugar'}, {u'comment': u'grated peeled', u'name': u'ginger', u'qty': u'1', u'input': u'1 tablespoon grated peeled ginger', u'display': u\"<span class='qty'>1</span><span class='unit'>tablespoon</span><span class='comment'>grated peeled</span><span class='name'>ginger</span>\", u'unit': u'tablespoon'}, {u'input': u'2 tablespoons bacon fat', u'qty': u'2', u'display': u\"<span class='qty'>2</span><span class='unit'>tablespoons</span><span class='name'>bacon fat</span>\", u'unit': u'tablespoon', u'name': u'bacon fat'}, {u'comment': u'medium yellow, thinly sliced', u'input': u'2 medium yellow onions, thinly sliced', u'qty': u'2', u'display': u\"<span class='qty'>2</span><span class='comment'>medium yellow</span><span class='name'>onions</span><span class='comment'>, thinly sliced</span>\", u'name': u'onions'}, {u'input': u'1/4 cup all-purpose flour', u'qty': u'1/4', u'display': u\"<span class='qty'>1/4</span><span class='unit'>cup</span><span class='name'>all-purpose flour</span>\", u'unit': u'cup', u'name': u'all-purpose flour'}, {u'input': u'1 bay leaf', u'qty': u'1', u'display': u\"<span class='qty'>1</span><span class='name'>bay leaf</span>\", u'name': u'bay leaf'}, {u'comment': u'1 750-milliliter bottle', u'input': u'1 750-milliliter bottle Belgian-style tripel ale', u'name': u'Belgian-style tripel ale', u'display': u\"<span class='comment'>1 750-milliliter bottle</span><span class='name'>Belgian-style tripel ale</span>\"}, {u'input': u'4 cups beef stock', u'qty': u'4', u'display': u\"<span class='qty'>4</span><span class='unit'>cups</span><span class='name'>beef stock</span>\", u'unit': u'cup', u'name': u'beef stock'}]\n",
      "recipe title: Tropical Fruit Smoothie \n",
      "raw ingredient: 1 cup plain nonfat yogurt\n",
      "cleaned ingredient: 1 cup plain nonfat yogurt\n",
      "{u'comment': u'plain nonfat', u'name': u'yogurt', u'qty': u'1', u'input': u'1 cup plain nonfat yogurt', u'display': u\"<span class='qty'>1</span><span class='unit'>cup</span><span class='comment'>plain nonfat</span><span class='name'>yogurt</span>\", u'unit': u'cup'}\n",
      "raw ingredient: 1 large banana, peeled, cut into pieces\n",
      "cleaned ingredient: 1 large banana, peeled, cut into pieces\n",
      "{u'comment': u'large, peeled, cut into pieces', u'input': u'1 large banana, peeled, cut into pieces', u'qty': u'1', u'display': u\"<span class='qty'>1</span><span class='comment'>large</span><span class='name'>banana</span><span class='comment'>, peeled , cut into pieces</span>\", u'name': u'banana'}\n",
      "raw ingredient: 1/2 cup guava nectar\n",
      "cleaned ingredient: 1/2 cup guava nectar\n",
      "{u'input': u'1/2 cup guava nectar', u'qty': u'1/2', u'display': u\"<span class='qty'>1/2</span><span class='unit'>cup</span><span class='name'>guava nectar</span>\", u'unit': u'cup', u'name': u'guava nectar'}\n",
      "raw ingredient: 1/2 cup coconut-pineapple nectar or juice\n",
      "cleaned ingredient: 1/2 cup coconut-pineapple nectar\n",
      "{u'input': u'1/2 cup coconut-pineapple nectar', u'qty': u'1/2', u'display': u\"<span class='qty'>1/2</span><span class='unit'>cup</span><span class='name'>coconut-pineapple nectar</span>\", u'unit': u'cup', u'name': u'coconut-pineapple nectar'}\n",
      "raw ingredient: 4 ice cubes\n",
      "cleaned ingredient: 4 ice cubes\n",
      "{u'input': u'4 ice cubes', u'qty': u'4', u'display': u\"<span class='qty'>4</span><span class='name'>ice cubes</span>\", u'name': u'ice cubes'}\n",
      "[{u'comment': u'plain nonfat', u'name': u'yogurt', u'qty': u'1', u'input': u'1 cup plain nonfat yogurt', u'display': u\"<span class='qty'>1</span><span class='unit'>cup</span><span class='comment'>plain nonfat</span><span class='name'>yogurt</span>\", u'unit': u'cup'}, {u'comment': u'large, peeled, cut into pieces', u'input': u'1 large banana, peeled, cut into pieces', u'qty': u'1', u'display': u\"<span class='qty'>1</span><span class='comment'>large</span><span class='name'>banana</span><span class='comment'>, peeled , cut into pieces</span>\", u'name': u'banana'}, {u'input': u'1/2 cup guava nectar', u'qty': u'1/2', u'display': u\"<span class='qty'>1/2</span><span class='unit'>cup</span><span class='name'>guava nectar</span>\", u'unit': u'cup', u'name': u'guava nectar'}, {u'input': u'1/2 cup coconut-pineapple nectar', u'qty': u'1/2', u'display': u\"<span class='qty'>1/2</span><span class='unit'>cup</span><span class='name'>coconut-pineapple nectar</span>\", u'unit': u'cup', u'name': u'coconut-pineapple nectar'}, {u'input': u'4 ice cubes', u'qty': u'4', u'display': u\"<span class='qty'>4</span><span class='name'>ice cubes</span>\", u'name': u'ice cubes'}]\n",
      "recipe title: Chocolate Chip, Cherry and Walnut Rugelach \n",
      "raw ingredient: 2 cups all purpose flour\n",
      "cleaned ingredient: 2 cups all purpose flour\n",
      "{u'input': u'2 cups all purpose flour', u'qty': u'2', u'display': u\"<span class='qty'>2</span><span class='unit'>cups</span><span class='name'>all purpose flour</span>\", u'unit': u'cup', u'name': u'all purpose flour'}\n",
      "raw ingredient: 2 tablespoons sugar\n",
      "cleaned ingredient: 2 tablespoons sugar\n",
      "{u'input': u'2 tablespoons sugar', u'qty': u'2', u'display': u\"<span class='qty'>2</span><span class='unit'>tablespoons</span><span class='name'>sugar</span>\", u'unit': u'tablespoon', u'name': u'sugar'}\n",
      "raw ingredient: 1/4 teaspoon salt\n",
      "cleaned ingredient: 1/4 teaspoon salt\n",
      "{u'input': u'1/4 teaspoon salt', u'qty': u'1/4', u'display': u\"<span class='qty'>1/4</span><span class='unit'>teaspoon</span><span class='name'>salt</span>\", u'unit': u'teaspoon', u'name': u'salt'}\n",
      "raw ingredient: 1 cup (2 sticks) chilled unsalted butter, cut into 1/2-inch pieces\n",
      "cleaned ingredient: 1 cup chilled unsalted butter, cut into 1/2-inch pieces\n",
      "{u'comment': u'chilled, cut into 1/2-inch pieces', u'name': u'unsalted butter', u'qty': u'1', u'input': u'1 cup chilled unsalted butter, cut into 1/2-inch pieces', u'display': u\"<span class='qty'>1</span><span class='unit'>cup</span><span class='comment'>chilled</span><span class='name'>unsalted butter</span><span class='comment'>, cut into 1/2-inch pieces</span>\", u'unit': u'cup'}\n",
      "raw ingredient: 6 ounces chilled cream cheese, cut into 1/2-inch pieces\n",
      "cleaned ingredient: 6 ounces chilled cream cheese, cut into 1/2-inch pieces\n",
      "{u'comment': u'chilled, cut into 1/2-inch pieces', u'name': u'cream cheese', u'qty': u'6', u'input': u'6 ounces chilled cream cheese, cut into 1/2-inch pieces', u'display': u\"<span class='qty'>6</span><span class='unit'>ounces</span><span class='comment'>chilled</span><span class='name'>cream cheese</span><span class='comment'>, cut into 1/2-inch pieces</span>\", u'unit': u'ounce'}\n",
      "raw ingredient: 1/2 cup sugar\n",
      "cleaned ingredient: 1/2 cup sugar\n",
      "{u'input': u'1/2 cup sugar', u'qty': u'1/2', u'display': u\"<span class='qty'>1/2</span><span class='unit'>cup</span><span class='name'>sugar</span>\", u'unit': u'cup', u'name': u'sugar'}\n",
      "raw ingredient: 1 teaspoon ground cinnamon\n",
      "cleaned ingredient: 1 teaspoon ground cinnamon\n",
      "{u'comment': u'ground', u'name': u'cinnamon', u'qty': u'1', u'input': u'1 teaspoon ground cinnamon', u'display': u\"<span class='qty'>1</span><span class='unit'>teaspoon</span><span class='comment'>ground</span><span class='name'>cinnamon</span>\", u'unit': u'teaspoon'}\n",
      "raw ingredient: 12 tablespoons cherry preserves\n",
      "cleaned ingredient: 12 tablespoons cherry preserves\n",
      "{u'input': u'12 tablespoons cherry preserves', u'qty': u'12', u'display': u\"<span class='qty'>12</span><span class='unit'>tablespoons</span><span class='name'>cherry preserves</span>\", u'unit': u'tablespoon', u'name': u'cherry preserves'}\n",
      "raw ingredient: 8 tablespoons dried tart cherries\n",
      "cleaned ingredient: 8 tablespoons dried tart cherries\n",
      "{u'comment': u'dried', u'name': u'tart cherries', u'qty': u'8', u'input': u'8 tablespoons dried tart cherries', u'display': u\"<span class='qty'>8</span><span class='unit'>tablespoons</span><span class='comment'>dried</span><span class='name'>tart cherries</span>\", u'unit': u'tablespoon'}\n",
      "raw ingredient: 8 tablespoons miniature semisweet chocolate chips\n",
      "cleaned ingredient: 8 tablespoons miniature semisweet chocolate chips\n",
      "{u'comment': u'miniature semisweet chips', u'name': u'chocolate', u'qty': u'8', u'input': u'8 tablespoons miniature semisweet chocolate chips', u'display': u\"<span class='qty'>8</span><span class='unit'>tablespoons</span><span class='comment'>miniature semisweet</span><span class='name'>chocolate</span><span class='comment'>chips</span>\", u'unit': u'tablespoon'}\n",
      "raw ingredient: 8 tablespoons finely chopped walnuts\n",
      "cleaned ingredient: 8 tablespoons finely chopped walnuts\n",
      "{u'comment': u'finely chopped', u'name': u'walnuts', u'qty': u'8', u'input': u'8 tablespoons finely chopped walnuts', u'display': u\"<span class='qty'>8</span><span class='unit'>tablespoons</span><span class='comment'>finely chopped</span><span class='name'>walnuts</span>\", u'unit': u'tablespoon'}\n",
      "raw ingredient: 1/3 cup (about) whipping cream\n",
      "cleaned ingredient: 1/3 cup whipping cream\n",
      "{u'input': u'1/3 cup whipping cream', u'other': u'1/3', u'name': u'whipping cream', u'unit': u'cup', u'display': u\"<span class='other'>1/3</span><span class='unit'>cup</span><span class='name'>whipping cream</span>\"}\n",
      "[{u'input': u'2 cups all purpose flour', u'qty': u'2', u'display': u\"<span class='qty'>2</span><span class='unit'>cups</span><span class='name'>all purpose flour</span>\", u'unit': u'cup', u'name': u'all purpose flour'}, {u'input': u'2 tablespoons sugar', u'qty': u'2', u'display': u\"<span class='qty'>2</span><span class='unit'>tablespoons</span><span class='name'>sugar</span>\", u'unit': u'tablespoon', u'name': u'sugar'}, {u'input': u'1/4 teaspoon salt', u'qty': u'1/4', u'display': u\"<span class='qty'>1/4</span><span class='unit'>teaspoon</span><span class='name'>salt</span>\", u'unit': u'teaspoon', u'name': u'salt'}, {u'comment': u'chilled, cut into 1/2-inch pieces', u'name': u'unsalted butter', u'qty': u'1', u'input': u'1 cup chilled unsalted butter, cut into 1/2-inch pieces', u'display': u\"<span class='qty'>1</span><span class='unit'>cup</span><span class='comment'>chilled</span><span class='name'>unsalted butter</span><span class='comment'>, cut into 1/2-inch pieces</span>\", u'unit': u'cup'}, {u'comment': u'chilled, cut into 1/2-inch pieces', u'name': u'cream cheese', u'qty': u'6', u'input': u'6 ounces chilled cream cheese, cut into 1/2-inch pieces', u'display': u\"<span class='qty'>6</span><span class='unit'>ounces</span><span class='comment'>chilled</span><span class='name'>cream cheese</span><span class='comment'>, cut into 1/2-inch pieces</span>\", u'unit': u'ounce'}, {u'input': u'1/2 cup sugar', u'qty': u'1/2', u'display': u\"<span class='qty'>1/2</span><span class='unit'>cup</span><span class='name'>sugar</span>\", u'unit': u'cup', u'name': u'sugar'}, {u'comment': u'ground', u'name': u'cinnamon', u'qty': u'1', u'input': u'1 teaspoon ground cinnamon', u'display': u\"<span class='qty'>1</span><span class='unit'>teaspoon</span><span class='comment'>ground</span><span class='name'>cinnamon</span>\", u'unit': u'teaspoon'}, {u'input': u'12 tablespoons cherry preserves', u'qty': u'12', u'display': u\"<span class='qty'>12</span><span class='unit'>tablespoons</span><span class='name'>cherry preserves</span>\", u'unit': u'tablespoon', u'name': u'cherry preserves'}, {u'comment': u'dried', u'name': u'tart cherries', u'qty': u'8', u'input': u'8 tablespoons dried tart cherries', u'display': u\"<span class='qty'>8</span><span class='unit'>tablespoons</span><span class='comment'>dried</span><span class='name'>tart cherries</span>\", u'unit': u'tablespoon'}, {u'comment': u'miniature semisweet chips', u'name': u'chocolate', u'qty': u'8', u'input': u'8 tablespoons miniature semisweet chocolate chips', u'display': u\"<span class='qty'>8</span><span class='unit'>tablespoons</span><span class='comment'>miniature semisweet</span><span class='name'>chocolate</span><span class='comment'>chips</span>\", u'unit': u'tablespoon'}, {u'comment': u'finely chopped', u'name': u'walnuts', u'qty': u'8', u'input': u'8 tablespoons finely chopped walnuts', u'display': u\"<span class='qty'>8</span><span class='unit'>tablespoons</span><span class='comment'>finely chopped</span><span class='name'>walnuts</span>\", u'unit': u'tablespoon'}, {u'input': u'1/3 cup whipping cream', u'other': u'1/3', u'name': u'whipping cream', u'unit': u'cup', u'display': u\"<span class='other'>1/3</span><span class='unit'>cup</span><span class='name'>whipping cream</span>\"}]\n",
      "recipe title: Manchego Cheese and Garlic Dogs \n",
      "raw ingredient: 2 large heads of garlic, top 1/2 inch cut off\n",
      "cleaned ingredient: 2 large heads of garlic, top 1/2 inch cut off\n",
      "{u'comment': u', top 1/2 inch cut off', u'name': u'garlic', u'qty': u'2', u'other': u'large of', u'input': u'2 large heads of garlic, top 1/2 inch cut off', u'display': u\"<span class='qty'>2</span><span class='other'>large</span><span class='unit'>heads</span><span class='other'>of</span><span class='name'>garlic</span><span class='comment'>, top 1/2 inch cut off</span>\", u'unit': u'head'}\n",
      "raw ingredient: 5 teaspoons extra-virgin olive oil, divided\n",
      "cleaned ingredient: 5 teaspoons extra-virgin olive oil, divided\n",
      "{u'comment': u'extra-virgin', u'name': u'olive oil', u'qty': u'5', u'other': u', divided', u'input': u'5 teaspoons extra-virgin olive oil, divided', u'display': u\"<span class='qty'>5</span><span class='unit'>teaspoons</span><span class='comment'>extra-virgin</span><span class='name'>olive oil</span><span class='other'>, divided</span>\", u'unit': u'teaspoon'}\n",
      "raw ingredient: 1/2 cup diced drained roasted red peppers from jar\n",
      "cleaned ingredient: 1/2 cup diced drained roasted red peppers from jar\n",
      "{u'comment': u'diced drained roasted from jar', u'name': u'red peppers', u'qty': u'1/2', u'input': u'1/2 cup diced drained roasted red peppers from jar', u'display': u\"<span class='qty'>1/2</span><span class='unit'>cup</span><span class='comment'>diced drained roasted</span><span class='name'>red peppers</span><span class='comment'>from jar</span>\", u'unit': u'cup'}\n",
      "raw ingredient: 1 tablespoon chopped fresh parsley\n",
      "cleaned ingredient: 1 tablespoon chopped fresh parsley\n",
      "{u'comment': u'chopped fresh', u'name': u'parsley', u'qty': u'1', u'input': u'1 tablespoon chopped fresh parsley', u'display': u\"<span class='qty'>1</span><span class='unit'>tablespoon</span><span class='comment'>chopped fresh</span><span class='name'>parsley</span>\", u'unit': u'tablespoon'}\n",
      "raw ingredient: Coarse kosher salt\n",
      "cleaned ingredient: Coarse kosher salt\n",
      "{u'input': u'Coarse kosher salt', u'name': u'Coarse kosher salt', u'display': u\"<span class='name'>Coarse kosher salt</span>\"}\n",
      "raw ingredient: 6 grilled hot dog buns or 2 1/2-inch-wide pieces ciabatta or pain rustique, cut to length of hot dogs and split lengthwise\n",
      "cleaned ingredient: 6 grilled hot dog buns\n",
      "{u'comment': u'grilled', u'input': u'6 grilled hot dog buns', u'qty': u'6', u'display': u\"<span class='qty'>6</span><span class='comment'>grilled</span><span class='name'>hot dog buns</span>\", u'name': u'hot dog buns'}\n",
      "raw ingredient: 6 grilled all-beef hot dogs\n",
      "cleaned ingredient: 6 grilled all-beef hot dogs\n",
      "{u'input': u'6 grilled all-beef hot dogs', u'qty': u'6', u'display': u\"<span class='qty'>6</span><span class='name'>grilled all-beef hot dogs</span>\", u'name': u'grilled all-beef hot dogs'}\n",
      "raw ingredient: 2 ounces Manchego cheese,* grated\n",
      "cleaned ingredient: 2 ounces Manchego cheese,\n"
     ]
    },
    {
     "ename": "KeyError",
     "evalue": "u'2 ounces Manchego cheese,'",
     "output_type": "error",
     "traceback": [
      "\u001b[0;31m---------------------------------------------------------------------------\u001b[0m",
      "\u001b[0;31mKeyError\u001b[0m                                  Traceback (most recent call last)",
      "\u001b[0;32m<ipython-input-27-4ef94cf69f51>\u001b[0m in \u001b[0;36m<module>\u001b[0;34m()\u001b[0m\n\u001b[1;32m     17\u001b[0m \u001b[0;34m\u001b[0m\u001b[0m\n\u001b[1;32m     18\u001b[0m         \u001b[0;31m# get the model based on the cleaned listing\u001b[0m\u001b[0;34m\u001b[0m\u001b[0;34m\u001b[0m\u001b[0m\n\u001b[0;32m---> 19\u001b[0;31m         \u001b[0mcookedIngredient\u001b[0m \u001b[0;34m=\u001b[0m \u001b[0mcleanedIngredientToCookedIngredient\u001b[0m\u001b[0;34m[\u001b[0m\u001b[0mcleanedIngredient\u001b[0m\u001b[0;34m]\u001b[0m\u001b[0;34m\u001b[0m\u001b[0m\n\u001b[0m\u001b[1;32m     20\u001b[0m         \u001b[0;32mprint\u001b[0m \u001b[0mcookedIngredient\u001b[0m\u001b[0;34m\u001b[0m\u001b[0m\n\u001b[1;32m     21\u001b[0m \u001b[0;34m\u001b[0m\u001b[0m\n",
      "\u001b[0;31mKeyError\u001b[0m: u'2 ounces Manchego cheese,'"
     ]
    }
   ],
   "source": [
    "# titleToCookedRecipe is a mapping from title to recipe containing cooked ingredients\n",
    "titleToCookedRecipe = dict()\n",
    "\n",
    "# for every recipe title\n",
    "for recipe in titleToRawRecipe.values():\n",
    "    title = recipe['title']\n",
    "    print \"recipe title: \" + title\n",
    "    # create an empty list to store the ingredients\n",
    "    cookedIngredients = list()\n",
    "    # for every ingredient in that recipe\n",
    "    for rawIngredient in recipe['ingredients']:\n",
    "        print \"raw ingredient: \" + rawIngredient\n",
    "\n",
    "        # get the cleaned listing\n",
    "        cleanedIngredient = getCleanedIngredientFromRawIngredient(rawIngredient, noOrListings)\n",
    "        print \"cleaned ingredient: \" + cleanedIngredient\n",
    "        \n",
    "        # get the model based on the cleaned listing\n",
    "        cookedIngredient = cleanedIngredientToCookedIngredient[cleanedIngredient]\n",
    "        print cookedIngredient\n",
    "        \n",
    "        # append that model to the list\n",
    "        cookedIngredients.append(cookedIngredient)\n",
    "    print cookedIngredients\n",
    "    # enter the title and the list into the dictionary as key value pairs\n",
    "    titleToCookedRecipe[title] = cookedIngredients"
   ]
  },
  {
   "cell_type": "code",
   "execution_count": 29,
   "metadata": {},
   "outputs": [
    {
     "name": "stdout",
     "output_type": "stream",
     "text": [
      "butternut squash\n",
      "vegetable oil\n",
      "milk\n",
      "rosemary\n",
      "garlic\n",
      "unsalted butter\n",
      "all-purpose flour\n",
      "nine 7- by 3 1/2-inch sheets dry no-boil lasagne pasta\n",
      "Parmesan\n",
      "heavy cream\n",
      "salt\n",
      "rosemary\n"
     ]
    }
   ],
   "source": [
    "for cookedIngredient in titleToCookedRecipe['Roasted Butternut Squash, Rosemary, and Garlic Lasagne ']:\n",
    "    print cookedIngredient['name']"
   ]
  }
 ],
 "metadata": {
  "kernelspec": {
   "display_name": "Python 2",
   "language": "python",
   "name": "python2"
  },
  "language_info": {
   "codemirror_mode": {
    "name": "ipython",
    "version": 2
   },
   "file_extension": ".py",
   "mimetype": "text/x-python",
   "name": "python",
   "nbconvert_exporter": "python",
   "pygments_lexer": "ipython2",
   "version": "2.7.15"
  }
 },
 "nbformat": 4,
 "nbformat_minor": 2
}
